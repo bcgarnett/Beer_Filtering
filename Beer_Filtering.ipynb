{
 "cells": [
  {
   "cell_type": "code",
   "execution_count": 1,
   "metadata": {},
   "outputs": [
    {
     "name": "stdout",
     "output_type": "stream",
     "text": [
      "29637 5000\n"
     ]
    }
   ],
   "source": [
    "import pandas as pd\n",
    "import numpy as np\n",
    "import matplotlib.pyplot as plt\n",
    "\n",
    "B = np.load('beer_ratings.npy')\n",
    "R = np.load('beer_rated.npy')\n",
    "num_beers = np.size(B,0)\n",
    "num_users = np.size(B,1)\n",
    "print(num_beers,num_users)\n",
    "\n",
    "#Or use this code to make matrix R(i,j) = 1 if User j rated beer i\n",
    "#R=[]\n",
    "#for i in range(0,num_beers):\n",
    "   # row = []\n",
    "   # beer_row = B[i]\n",
    "   # for j in range(0,num_users):\n",
    "   #     row.append(int(beer_row[j]>0))\n",
    "   # R.append(row)\n",
    "# R = np.array(R)"
   ]
  },
  {
   "cell_type": "code",
   "execution_count": 4,
   "metadata": {},
   "outputs": [],
   "source": [
    "#mean normalization\n",
    "num_ratings = np.sum(R,axis=1)\n",
    "sum_ratings = np.sum(B,axis=1)\n",
    "Mu = []\n",
    "for i in range(0,num_beers):\n",
    "    if num_ratings[i] == 0:\n",
    "        Mu.append(0)\n",
    "    else:\n",
    "        Mu.append(sum_ratings[i]/num_ratings[i])\n",
    "Bmu = np.subtract(B,np.matrix.transpose(np.array(num_users*[Mu])))"
   ]
  },
  {
   "cell_type": "code",
   "execution_count": 11,
   "metadata": {},
   "outputs": [],
   "source": [
    "#Choose number of features\n",
    "num_features = 10\n",
    "\n",
    "#randomly initialize features for each beer\n",
    "X_rand = []\n",
    "for i in range(0,num_beers):\n",
    "    row = []\n",
    "    for j in range(0,num_features):\n",
    "        row.append(np.random.random()/num_features)\n",
    "    X_rand.append(row)\n",
    "X = np.array(X_rand)\n",
    "#randomly initialize feature-preference for each user\n",
    "Theta_rand = []\n",
    "for i in range(0,num_users):\n",
    "    row = []\n",
    "    for j in range(0,num_features):\n",
    "        row.append(np.random.random()/num_features)\n",
    "    Theta_rand.append(row)\n",
    "Theta = np.array(Theta_rand)"
   ]
  },
  {
   "cell_type": "code",
   "execution_count": 12,
   "metadata": {},
   "outputs": [],
   "source": [
    "lamb = 1\n",
    "def Cost(X,Theta,Bmu,R,lamb):\n",
    "    #Bmu is mean-normalized Beer-ratings\n",
    "    #R(i,j)=1 if user j rated beer i\n",
    "    m = len(X)\n",
    "    n = len(Theta)\n",
    "    Pred = np.matmul(X,np.matrix.transpose(Theta))\n",
    "    Diff = np.subtract(Pred,Bmu)\n",
    "    SqDiff = np.multiply(Diff,Diff)\n",
    "    A = np.multiply(SqDiff,R)\n",
    "    J = np.sum(A)\n",
    "    Xsq = np.multiply(X,X)\n",
    "    SumXsq = np.sum(Xsq)\n",
    "    Thetasq = np.multiply(Theta,Theta)\n",
    "    SumThetasq = np.sum(Thetasq)\n",
    "    return ((1/2)*J+(lamb/2)*(SumXsq+SumThetasq))"
   ]
  },
  {
   "cell_type": "code",
   "execution_count": 13,
   "metadata": {},
   "outputs": [],
   "source": [
    "alpha = .005\n",
    "def GradDescent(X,Theta,Bmu,R, alpha, lamb):\n",
    "    Xgrad = np.subtract((1-lamb*alpha)*X,alpha*np.matmul(np.multiply(R,(np.subtract(np.matmul(X,np.matrix.transpose(Theta)),Bmu))),Theta))\n",
    "    Thetagrad = np.subtract((1-lamb*alpha)*Theta,alpha*np.matmul(np.matrix.transpose(np.multiply(R,np.subtract(np.matmul(X,np.matrix.transpose(Theta)),Bmu))),X))\n",
    "    return (Xgrad,Thetagrad)"
   ]
  },
  {
   "cell_type": "code",
   "execution_count": 14,
   "metadata": {},
   "outputs": [],
   "source": [
    "iterations = []\n",
    "cost_values = []"
   ]
  },
  {
   "cell_type": "code",
   "execution_count": null,
   "metadata": {},
   "outputs": [],
   "source": [
    "for i in range(0,130):\n",
    "    if i % 10 == 0:\n",
    "        J = Cost(X,Theta,Bmu,R,lamb)\n",
    "        iterations.append(i)\n",
    "        cost_values.append(J)\n",
    "    (X,Theta) = GradDescent(X,Theta,Bmu,R,alpha,lamb)"
   ]
  },
  {
   "cell_type": "code",
   "execution_count": 18,
   "metadata": {},
   "outputs": [],
   "source": [
    "for i in range(131,251):\n",
    "    if i % 10 == 0:\n",
    "        J = Cost(X,Theta,Bmu,R,lamb)\n",
    "        iterations.append(i)\n",
    "        cost_values.append(J)\n",
    "    (X,Theta) = GradDescent(X,Theta,Bmu,R,alpha,lamb)"
   ]
  },
  {
   "cell_type": "code",
   "execution_count": 19,
   "metadata": {},
   "outputs": [
    {
     "data": {
      "text/plain": [
       "<function matplotlib.pyplot.show(*args, **kw)>"
      ]
     },
     "execution_count": 19,
     "metadata": {},
     "output_type": "execute_result"
    },
    {
     "data": {
      "image/png": "[encoded data removed]",
      "text/plain": [
       "<Figure size 432x288 with 1 Axes>"
      ]
     },
     "metadata": {
      "needs_background": "light"
     },
     "output_type": "display_data"
    }
   ],
   "source": [
    "plt.plot(iterations,cost_values,'ro')\n",
    "plt.ylabel('cost')\n",
    "plt.xlabel('iteration')\n",
    "plt.show"
   ]
  },
  {
   "cell_type": "code",
   "execution_count": 22,
   "metadata": {},
   "outputs": [],
   "source": [
    "np.save('beer_features.npy',X)"
   ]
  },
  {
   "cell_type": "code",
   "execution_count": null,
   "metadata": {},
   "outputs": [],
   "source": []
  }
 ],
 "metadata": {
  "kernelspec": {
   "display_name": "Python 3",
   "language": "python",
   "name": "python3"
  },
  "language_info": {
   "codemirror_mode": {
    "name": "ipython",
    "version": 3
   },
   "file_extension": ".py",
   "mimetype": "text/x-python",
   "name": "python",
   "nbconvert_exporter": "python",
   "pygments_lexer": "ipython3",
   "version": "3.7.3"
  }
 },
 "nbformat": 4,
 "nbformat_minor": 2
}
